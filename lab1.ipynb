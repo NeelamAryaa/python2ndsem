{
 "cells": [
  {
   "cell_type": "code",
   "execution_count": 7,
   "id": "1fcfc5cc",
   "metadata": {},
   "outputs": [
    {
     "name": "stdout",
     "output_type": "stream",
     "text": [
      "enter x coordinate of point p1 : 4\n",
      "enter y coordinate of point p1 : 3\n",
      "enter x coordinate of point p2 : 7\n",
      "enter y coordinate of point p2 : 1\n",
      "slope =  -0.6666666666666666\n"
     ]
    }
   ],
   "source": [
    "# Question-2\n",
    "\n",
    "x1=int(input(\"enter x coordinate of point p1 : \"))\n",
    "y1=int(input(\"enter y coordinate of point p1 : \"))\n",
    "x2=int(input(\"enter x coordinate of point p2 : \"))\n",
    "y2=int(input(\"enter y coordinate of point p2 : \"))\n",
    "slope=(y2-y1)/(x2-x1)\n",
    "print(\"slope = \",slope)"
   ]
  },
  {
   "cell_type": "code",
   "execution_count": 4,
   "id": "0359eb57",
   "metadata": {},
   "outputs": [
    {
     "name": "stdout",
     "output_type": "stream",
     "text": [
      "enter value of x : 3\n",
      "sinh for x =  10.017874927409903\n",
      "Built in sinh for x =  10.017874927409903\n"
     ]
    }
   ],
   "source": [
    "#Question-3\n",
    "\n",
    "import math\n",
    "\n",
    "x=int(input(\"enter value of x : \"))\n",
    "sinh=(math.exp(x)-math.exp(-x))/2\n",
    "print(\"sinh for x = \",sinh)\n",
    "print(\"Built in sinh for x = \",math.sinh(x))\n"
   ]
  },
  {
   "cell_type": "code",
   "execution_count": 8,
   "id": "cac7c2b5",
   "metadata": {},
   "outputs": [
    {
     "data": {
      "text/plain": [
       "-120.27311408976854"
      ]
     },
     "execution_count": 8,
     "metadata": {},
     "output_type": "execute_result"
    }
   ],
   "source": [
    "#Question-4\n",
    "\n",
    "from math import exp,sin,cos,log,pi\n",
    "expression=exp(2)*sin(pi/6)+log(3)*cos(pi/9)-(5**3)\n",
    "expression"
   ]
  },
  {
   "cell_type": "code",
   "execution_count": 9,
   "id": "d3181bd9",
   "metadata": {},
   "outputs": [
    {
     "name": "stdout",
     "output_type": "stream",
     "text": [
      "result when N=0 :  3.1415927300133055\n",
      "result when N=1 :  3.1415926535897936\n",
      "pi in python =  3.141592653589793\n"
     ]
    }
   ],
   "source": [
    "#Question-1\n",
    "\n",
    "import math\n",
    "\n",
    "k=0\n",
    "res=0\n",
    "\n",
    "res = (math.factorial(4*k)*(1103+26390*k))/((math.factorial(k)**4)*(396**(4*k)))\n",
    "print(\"result when N=0 : \",1/((2*math.sqrt(2)/9801)*res))\n",
    "\n",
    "\n",
    "res=0\n",
    "while k<=1:\n",
    "    res += ((math.factorial(4*k)*(1103+26390*k))/((math.factorial(k)**4)*(396**(4*k))))\n",
    "    k=k+1\n",
    "print(\"result when N=1 : \",1/((2*math.sqrt(2)/9801)*res))\n",
    "print(\"pi in python = \",math.pi)"
   ]
  },
  {
   "cell_type": "code",
   "execution_count": null,
   "id": "fa5e3225",
   "metadata": {},
   "outputs": [],
   "source": []
  }
 ],
 "metadata": {
  "kernelspec": {
   "display_name": "Python 3 (ipykernel)",
   "language": "python",
   "name": "python3"
  },
  "language_info": {
   "codemirror_mode": {
    "name": "ipython",
    "version": 3
   },
   "file_extension": ".py",
   "mimetype": "text/x-python",
   "name": "python",
   "nbconvert_exporter": "python",
   "pygments_lexer": "ipython3",
   "version": "3.9.7"
  }
 },
 "nbformat": 4,
 "nbformat_minor": 5
}
