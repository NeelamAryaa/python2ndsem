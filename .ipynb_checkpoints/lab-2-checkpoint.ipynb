{
 "cells": [
  {
   "cell_type": "code",
   "execution_count": 16,
   "id": "608518bc",
   "metadata": {},
   "outputs": [
    {
     "name": "stdout",
     "output_type": "stream",
     "text": [
      "(array([1, 2], dtype=int64),)\n"
     ]
    }
   ],
   "source": [
    "import numpy as np\n",
    "def with_tolerance(A,a,tol):\n",
    "    a=abs(A-a)\n",
    "    idx=np.where(a < tol)\n",
    "    print(idx)\n",
    "#     print('index : ',idx[0])\n",
    "    \n",
    "A=np.array([0.0,1.0,2.0,3.0])\n",
    "a=1.5\n",
    "tol=0.75\n",
    "with_tolerance(A,a,tol)\n",
    "\n"
   ]
  },
  {
   "cell_type": "code",
   "execution_count": null,
   "id": "a96f0228",
   "metadata": {},
   "outputs": [],
   "source": [
    "def func(g):\n",
    "    \n",
    "    return [g(x),derivative_of_g(x)]"
   ]
  }
 ],
 "metadata": {
  "kernelspec": {
   "display_name": "Python 3 (ipykernel)",
   "language": "python",
   "name": "python3"
  },
  "language_info": {
   "codemirror_mode": {
    "name": "ipython",
    "version": 3
   },
   "file_extension": ".py",
   "mimetype": "text/x-python",
   "name": "python",
   "nbconvert_exporter": "python",
   "pygments_lexer": "ipython3",
   "version": "3.9.7"
  }
 },
 "nbformat": 4,
 "nbformat_minor": 5
}
