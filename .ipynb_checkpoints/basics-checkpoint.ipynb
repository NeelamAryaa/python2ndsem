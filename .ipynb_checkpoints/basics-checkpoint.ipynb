{
 "cells": [
  {
   "cell_type": "markdown",
   "id": "cd6c8858",
   "metadata": {},
   "source": [
    "# 21-01-2022 (basics)"
   ]
  },
  {
   "cell_type": "code",
   "execution_count": 63,
   "id": "cacfed88",
   "metadata": {},
   "outputs": [
    {
     "name": "stdout",
     "output_type": "stream",
     "text": [
      "<class 'float'>\n",
      "l [1, 'hello', 4.8]\n",
      "l1 =  [1, 2, 3]\n",
      "l2 =  [[1, 2, 3], [1, 'hello', 4.8]]\n",
      "l3 =  [1, 2, 3, 1, 'hello', 4.8]\n",
      "access element of l2 :  3\n",
      "slicing :  [1, 2]\n",
      "slicing :  [1, 2]\n",
      "last element of l1 :  3\n",
      "append in l1 [1, 2, 3, 50, [9, 8], [1, 'hello', 4.8]]\n",
      "extend in l1 [1, 2, 3, 50, [9, 8], [1, 'hello', 4.8], 1, 'hello', 4.8]\n",
      "insert in l1 [1, 2, 'hi', 3, 50, [9, 8], [1, 'hello', 4.8], 1, 'hello', 4.8]\n",
      "remove from l1 [1, 2, 3, 50, [1, 'hello', 4.8], 1, 'hello', 4.8]\n",
      "delete from l1 [1, 2, 3, [1, 'hello', 4.8], 1, 'hello', 4.8]\n"
     ]
    }
   ],
   "source": [
    "print(type(1.9))\n",
    "\n",
    "l=[1,'hello',4.8]\n",
    "print('l',l)\n",
    "\n",
    "l1=[1,2,3]\n",
    "print('l1 = ',l1)\n",
    "\n",
    "# list inside list\n",
    "l2=[l1,l]\n",
    "print('l2 = ',l2)\n",
    "\n",
    "# concatinate\n",
    "l3=l1+l\n",
    "print('l3 = ',l3)\n",
    "\n",
    "# access element of list\n",
    "print('access element of l2 : ',l2[0][2])\n",
    "\n",
    "# slicing\n",
    "print('slicing : ',l1[0:2])\n",
    "print('slicing : ',l1[:2])\n",
    "\n",
    "# last element\n",
    "print('last element of l1 : ',l1[-1])\n",
    "\n",
    "# append\n",
    "l1.append(50)\n",
    "l1.append([9,8])\n",
    "l1.append(l)\n",
    "print(\"append in l1\",l1)\n",
    "\n",
    "# extend\n",
    "l1.extend(l)\n",
    "print('extend in l1',l1)\n",
    "\n",
    "# insert\n",
    "l1.insert(2,'hi')\n",
    "print('insert in l1',l1)\n",
    "\n",
    "# remove\n",
    "l1.remove('hi')\n",
    "l1.remove([9,8])\n",
    "print('remove from l1',l1)\n",
    "\n",
    "# delete\n",
    "del l1[3]\n",
    "print('delete from l1',l1)\n"
   ]
  },
  {
   "cell_type": "code",
   "execution_count": 33,
   "id": "58531edb",
   "metadata": {},
   "outputs": [
    {
     "name": "stdout",
     "output_type": "stream",
     "text": [
      "hello\n",
      "['h', 'e', 'l', 'l', 'o']\n"
     ]
    }
   ],
   "source": [
    "a='hello'\n",
    "print(a)\n",
    "\n",
    "l=list('hello')\n",
    "print(l)"
   ]
  },
  {
   "cell_type": "code",
   "execution_count": 51,
   "id": "197b8bad",
   "metadata": {},
   "outputs": [
    {
     "name": "stdout",
     "output_type": "stream",
     "text": [
      "(1, 2, 3, 4, 5)\n",
      "(2, 3)\n",
      "[('a', 1), ('b', 2), ('c', 3)]\n",
      "('a', 1)\n",
      "('b', 2)\n",
      "('c', 3)\n",
      "(('a', 1), ('b', 2), ('c', 3))\n",
      "(2, 1)\n"
     ]
    }
   ],
   "source": [
    "# tuple\n",
    "\n",
    "t1=(1,2,3,4,5)\n",
    "print(t1)\n",
    "\n",
    "# slicing\n",
    "print(t1[1:3])\n",
    "\n",
    "# list of tuple\n",
    "l=[('a',1),('b',2),('c',3)]\n",
    "print(l)\n",
    "\n",
    "# unpacking element of tuple\n",
    "x,y,z=l\n",
    "print(x)\n",
    "print(y)\n",
    "print(z)\n",
    "\n",
    "l2=x,y,z\n",
    "print(l2)\n",
    "\n",
    "l3=2,1\n",
    "print(l3)"
   ]
  },
  {
   "cell_type": "code",
   "execution_count": 59,
   "id": "7d3fbaa9",
   "metadata": {},
   "outputs": [
    {
     "name": "stdout",
     "output_type": "stream",
     "text": [
      "{1, 2, 5, 6}\n",
      "{3, 4, 5, 6, 7}\n",
      "{1, 2, 3, 4, 5, 6, 7}\n",
      "{5, 6}\n"
     ]
    }
   ],
   "source": [
    "# set\n",
    "\n",
    "set1={1,6,2,5,5,6}\n",
    "print(set1)\n",
    "\n",
    "s2=set([3,3,4,5,5,6,7,7,7])\n",
    "print(s2)\n",
    "\n",
    "s3=set1.union(s2)\n",
    "print(s3)\n",
    "\n",
    "s4=set1.intersection(s2)\n",
    "print(s4)"
   ]
  },
  {
   "cell_type": "markdown",
   "id": "c1d078f9",
   "metadata": {},
   "source": [
    "# 24-01-2022 (Numpy)"
   ]
  },
  {
   "cell_type": "code",
   "execution_count": 82,
   "id": "2de8e867",
   "metadata": {},
   "outputs": [
    {
     "name": "stdout",
     "output_type": "stream",
     "text": [
      "[1 2 3]\n",
      "(3,)\n",
      "[[1 2 3]\n",
      " [4 5 6]]\n",
      "(2, 3)\n",
      "[[[ 1  2  3]\n",
      "  [ 4  5  6]]\n",
      "\n",
      " [[11 12 13]\n",
      "  [14 15 16]]]\n",
      "(2, 2, 3)\n",
      "[[[[ 1  2  3]\n",
      "   [ 4  5  6]]\n",
      "\n",
      "  [[11 12 13]\n",
      "   [14 15 16]]]\n",
      "\n",
      "\n",
      " [[[ 1  2  3]\n",
      "   [ 4  5  6]]\n",
      "\n",
      "  [[11 12 13]\n",
      "   [14 15 16]]]]\n",
      "(2, 2, 2, 3)\n",
      "2\n",
      "6\n",
      "6\n",
      "[1 2 3]\n",
      "[2 5]\n",
      "[3 6]\n"
     ]
    }
   ],
   "source": [
    "# numpy array\n",
    "import numpy as np\n",
    "a=np.array([1,2,3])\n",
    "print(a)\n",
    "print(a.shape)\n",
    "\n",
    "b=np.array([[1,2,3],[4,5,6]])\n",
    "print(b)\n",
    "print(b.shape)\n",
    "\n",
    "c=np.array([[[1,2,3],[4,5,6]],[[11,12,13],[14,15,16]]])\n",
    "print(c)\n",
    "print(c.shape)\n",
    "\n",
    "d=np.array([[[[1,2,3],[4,5,6]],[[11,12,13],[14,15,16]]],[[[1,2,3],[4,5,6]],[[11,12,13],[14,15,16]]]])\n",
    "print(d)\n",
    "print(d.shape)\n",
    "\n",
    "# access element\n",
    "print(a[1])\n",
    "print(b[1][2])\n",
    "# same\n",
    "print(b[1,2])\n",
    "\n",
    "# b[row,col] and : means all\n",
    "print(b[0,:])\n",
    "print(b[:,1])\n",
    "\n",
    "# last col ka subkuch\n",
    "print(b[:,-1])\n",
    "\n"
   ]
  },
  {
   "cell_type": "code",
   "execution_count": 75,
   "id": "4d617862",
   "metadata": {},
   "outputs": [
    {
     "name": "stdout",
     "output_type": "stream",
     "text": [
      "[  1.  12.  23.  34.  45.  56.  67.  78.  89. 100.]\n"
     ]
    }
   ],
   "source": [
    "# linspace\n",
    "import numpy as np\n",
    "\n",
    "a=np.linspace(1,100,10)\n",
    "print(a)"
   ]
  },
  {
   "cell_type": "code",
   "execution_count": 6,
   "id": "a7775aa2",
   "metadata": {},
   "outputs": [
    {
     "name": "stdout",
     "output_type": "stream",
     "text": [
      "<class 'range'>\n",
      "2\n"
     ]
    }
   ],
   "source": [
    "# range returns sequence of no.\n",
    "r=range(0,10,2)\n",
    "print(type(r))\n",
    "print(r[1])"
   ]
  },
  {
   "cell_type": "code",
   "execution_count": 11,
   "id": "e9ca2c21",
   "metadata": {},
   "outputs": [
    {
     "name": "stdout",
     "output_type": "stream",
     "text": [
      "[0. 1. 2. 3.]\n",
      "[1.5 0.5 0.5 1.5]\n"
     ]
    },
    {
     "data": {
      "text/plain": [
       "(array([1, 2], dtype=int64),)"
      ]
     },
     "execution_count": 11,
     "metadata": {},
     "output_type": "execute_result"
    }
   ],
   "source": [
    "import numpy as np\n",
    "A=np.array([0.0,1.0,2.0,3.0])\n",
    "print(A)\n",
    "a=1.5\n",
    "tol=0.75\n",
    "arr=abs(A-a)\n",
    "print(arr)\n",
    "np.where(arr<tol)"
   ]
  },
  {
   "cell_type": "code",
   "execution_count": 7,
   "id": "81c8719a",
   "metadata": {},
   "outputs": [
    {
     "name": "stdout",
     "output_type": "stream",
     "text": [
      "(4,)\n",
      "4\n",
      "6\n",
      "[[2 3]\n",
      " [5 6]]\n"
     ]
    }
   ],
   "source": [
    "import numpy as np\n",
    "a=np.array([0.0,1.0,2.0,3.0])\n",
    "\n",
    "# dimension of matrix: shape\n",
    "print(a.shape)\n",
    "\n",
    "# no. of elemet : size\n",
    "print(a.size)\n",
    "b=np.array([[1,2,3],[4,5,6]])\n",
    "print(b.size)\n",
    "\n",
    "print(b[:,[1,2]])"
   ]
  },
  {
   "cell_type": "code",
   "execution_count": 18,
   "id": "cbb2d7a7",
   "metadata": {},
   "outputs": [
    {
     "name": "stdout",
     "output_type": "stream",
     "text": [
      "[[0. 0. 0.]\n",
      " [0. 0. 0.]]\n",
      "[[1. 1.]\n",
      " [1. 1.]]\n",
      "[[0.00000000e+000 0.00000000e+000 0.00000000e+000 0.00000000e+000]\n",
      " [0.00000000e+000 6.54142915e-321 1.42417221e-306 1.37961641e-306]]\n",
      "[[9 9]\n",
      " [9 9]\n",
      " [9 9]]\n"
     ]
    }
   ],
   "source": [
    "import numpy as np\n",
    "a=np.zeros((2,3))\n",
    "b=np.ones((2,2))\n",
    "c=np.empty((2,4))\n",
    "d=np.full((3,2),9)\n",
    "print(a)\n",
    "print(b)\n",
    "print(c)\n",
    "print(d)"
   ]
  },
  {
   "cell_type": "code",
   "execution_count": 39,
   "id": "8145576e",
   "metadata": {},
   "outputs": [
    {
     "name": "stdout",
     "output_type": "stream",
     "text": [
      "[[ 7 10 13]\n",
      " [12 18 24]]\n",
      "[[ 7 10 13]\n",
      " [12 18 24]]\n"
     ]
    }
   ],
   "source": [
    "import numpy as np\n",
    "a=np.array([[1,2,1],[3,5,1]])\n",
    "b=np.array([[1,1,1],[1,2,3],[4,5,6]])\n",
    "\n",
    "# matrix multiplication\n",
    "mm=np.matmul(a,b)\n",
    "print(mm)\n",
    "\n",
    "# matrix multiplication\n",
    "dot=np.dot(a,b)\n",
    "print(dot)\n",
    "\n",
    "# defined for same dimension\n",
    "# print(a*b)\n",
    "# print(a**b)\n"
   ]
  },
  {
   "cell_type": "code",
   "execution_count": 41,
   "id": "fc2cd1be",
   "metadata": {},
   "outputs": [
    {
     "name": "stdout",
     "output_type": "stream",
     "text": [
      "[1 2]\n",
      "[1 2]\n"
     ]
    }
   ],
   "source": [
    "import numpy as np\n",
    "a = [[1,0],[0,1]] \n",
    "b = [1,2] \n",
    "\n",
    "print(np.matmul(b,a))\n",
    "\n",
    "# how?\n",
    "print(np.matmul(a,b))"
   ]
  },
  {
   "cell_type": "code",
   "execution_count": 54,
   "id": "47afb590",
   "metadata": {},
   "outputs": [
    {
     "name": "stdout",
     "output_type": "stream",
     "text": [
      "(3+5j)\n",
      "(0.5403023058681398+0.8414709848078965j)\n",
      "-0.5131670194948619 -19.486832980505138\n"
     ]
    }
   ],
   "source": [
    "import numpy as np\n",
    "import math\n",
    "a=complex(3,5)\n",
    "print(a)\n",
    "\n",
    "x=1\n",
    "b=np.exp(1j*x)\n",
    "print(b)\n",
    "\n",
    "a=1\n",
    "b=20\n",
    "c=10\n",
    "\n",
    "r1=(-b+ math.sqrt(b*b-4*a*c))/2*a\n",
    "r2=(-b - math.sqrt(b*b-4*a*c))/2*a\n",
    "print(r1, r2)"
   ]
  },
  {
   "cell_type": "markdown",
   "id": "d6cc3054",
   "metadata": {},
   "source": [
    "# 25-01-2022 (Loop)"
   ]
  },
  {
   "cell_type": "code",
   "execution_count": 3,
   "id": "60f93f11",
   "metadata": {},
   "outputs": [
    {
     "data": {
      "text/plain": [
       "range"
      ]
     },
     "execution_count": 3,
     "metadata": {},
     "output_type": "execute_result"
    }
   ],
   "source": [
    "type(range(1,10))"
   ]
  },
  {
   "cell_type": "code",
   "execution_count": 5,
   "id": "648e5df0",
   "metadata": {},
   "outputs": [
    {
     "name": "stdout",
     "output_type": "stream",
     "text": [
      "1\n",
      "2\n",
      "3\n",
      "4\n",
      "5\n",
      "6\n",
      "7\n",
      "8\n",
      "9\n"
     ]
    }
   ],
   "source": [
    "for i in range(1,10):\n",
    "    print(i)\n"
   ]
  },
  {
   "cell_type": "code",
   "execution_count": 6,
   "id": "0bdb06f1",
   "metadata": {},
   "outputs": [
    {
     "name": "stdout",
     "output_type": "stream",
     "text": [
      "h\n",
      "e\n",
      "l\n",
      "l\n",
      "o\n",
      " \n",
      "w\n",
      "o\n",
      "r\n",
      "l\n",
      "d\n"
     ]
    }
   ],
   "source": [
    "for i in \"hello world\":\n",
    "    print(i)\n"
   ]
  },
  {
   "cell_type": "code",
   "execution_count": 10,
   "id": "ef711a71",
   "metadata": {},
   "outputs": [
    {
     "name": "stdout",
     "output_type": "stream",
     "text": [
      "11\n",
      "h\n",
      "e\n",
      "l\n",
      "l\n",
      "o\n",
      " \n",
      "w\n",
      "o\n",
      "r\n",
      "l\n",
      "d\n"
     ]
    }
   ],
   "source": [
    "s=\"hello world\"\n",
    "print(len(s))\n",
    "for i in range(len(s)):\n",
    "    print(s[i])\n",
    "\n"
   ]
  },
  {
   "cell_type": "code",
   "execution_count": 16,
   "id": "bc08284d",
   "metadata": {},
   "outputs": [
    {
     "name": "stdout",
     "output_type": "stream",
     "text": [
      "0\n",
      "2\n",
      "4\n",
      "9\n"
     ]
    }
   ],
   "source": [
    "import numpy as np\n",
    "arr=np.array([1,2,3,4,5])\n",
    "sum=0\n",
    "# for i in arr:\n",
    "#     sum+=i\n",
    "\n",
    "for i in range(0,len(arr),2):\n",
    "    sum+=arr[i]\n",
    "    print(i)\n",
    "\n",
    "print(sum)    "
   ]
  },
  {
   "cell_type": "code",
   "execution_count": 22,
   "id": "48a66a9e",
   "metadata": {},
   "outputs": [
    {
     "name": "stdout",
     "output_type": "stream",
     "text": [
      "dict_keys(['a', 'b', 'c'])\n",
      "a 1\n",
      "b 2\n",
      "c 3\n"
     ]
    }
   ],
   "source": [
    "d={'a':1,'b':2, 'c':3}\n",
    "\n",
    "# return array\n",
    "print(d.keys())\n",
    "\n",
    "for key in d.keys():\n",
    "    print(key, d[key])\n"
   ]
  },
  {
   "cell_type": "code",
   "execution_count": 23,
   "id": "e84aaba9",
   "metadata": {},
   "outputs": [
    {
     "name": "stdout",
     "output_type": "stream",
     "text": [
      "dict_items([('a', 1), ('b', 2), ('c', 3)])\n",
      "a 1\n",
      "b 2\n",
      "c 3\n"
     ]
    }
   ],
   "source": [
    "d={'a':1,'b':2, 'c':3}\n",
    "\n",
    "# return array\n",
    "print(d.items())\n",
    "\n",
    "for key, value in d.items():\n",
    "    print(key, value)"
   ]
  },
  {
   "cell_type": "code",
   "execution_count": 27,
   "id": "f6cd0005",
   "metadata": {},
   "outputs": [
    {
     "name": "stdout",
     "output_type": "stream",
     "text": [
      "<class 'zip'>\n",
      "1 4\n",
      "2 5\n"
     ]
    }
   ],
   "source": [
    "a=zip([1,2],[4,5])\n",
    "print(type(a))\n",
    "for i,j in zip([1,2],[4,5]):\n",
    "    print(i,j)"
   ]
  },
  {
   "cell_type": "code",
   "execution_count": 41,
   "id": "862c1e70",
   "metadata": {},
   "outputs": [
    {
     "name": "stdout",
     "output_type": "stream",
     "text": [
      "1\n",
      "2\n",
      "3\n",
      "4\n",
      "5\n",
      "6\n"
     ]
    }
   ],
   "source": [
    "import numpy as np\n",
    "arr=np.array([[1,2,3],[4,5,6]])\n",
    "\n",
    "# returns tuple\n",
    "arr.shape\n",
    "\n",
    "# unpacking of tuple\n",
    "for i in range(r):\n",
    "    for j in range(c):    \n",
    "       print( arr[i,j])\n"
   ]
  },
  {
   "cell_type": "code",
   "execution_count": null,
   "id": "f1963eb1",
   "metadata": {},
   "outputs": [],
   "source": []
  }
 ],
 "metadata": {
  "kernelspec": {
   "display_name": "Python 3 (ipykernel)",
   "language": "python",
   "name": "python3"
  },
  "language_info": {
   "codemirror_mode": {
    "name": "ipython",
    "version": 3
   },
   "file_extension": ".py",
   "mimetype": "text/x-python",
   "name": "python",
   "nbconvert_exporter": "python",
   "pygments_lexer": "ipython3",
   "version": "3.9.7"
  }
 },
 "nbformat": 4,
 "nbformat_minor": 5
}
